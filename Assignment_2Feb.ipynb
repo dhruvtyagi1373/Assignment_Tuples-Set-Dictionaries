{
 "cells": [
  {
   "cell_type": "markdown",
   "id": "326c2fb3-b771-4d28-b50a-c2c7afabd167",
   "metadata": {},
   "source": [
    " ### Q1. What are the characteristics of the tuples? Is tuple immutable? \n"
   ]
  },
  {
   "cell_type": "code",
   "execution_count": null,
   "id": "fc2bd530-d929-4052-b271-9b07a524b2ba",
   "metadata": {},
   "outputs": [],
   "source": [
    "# Tuple items are ordered, unchangeable, and allow duplicate values.Tuple items are indexed, the first item has index [0], the second item has index [1] etc."
   ]
  },
  {
   "cell_type": "code",
   "execution_count": null,
   "id": "4fe21eb0-4b92-4a3c-9210-b5089c0b6714",
   "metadata": {},
   "outputs": [],
   "source": [
    "# Yes,Tuples are immutable."
   ]
  },
  {
   "cell_type": "code",
   "execution_count": 20,
   "id": "b4d7de57-21b8-4b27-9acc-59a49e9cae5b",
   "metadata": {},
   "outputs": [],
   "source": [
    "t2=(1,2,3,4,\"hello\",\"hi\")"
   ]
  },
  {
   "cell_type": "code",
   "execution_count": 21,
   "id": "ad229bb9-751d-4b3f-84b9-9af84c92557e",
   "metadata": {},
   "outputs": [
    {
     "ename": "TypeError",
     "evalue": "'tuple' object does not support item assignment",
     "output_type": "error",
     "traceback": [
      "\u001b[0;31m---------------------------------------------------------------------------\u001b[0m",
      "\u001b[0;31mTypeError\u001b[0m                                 Traceback (most recent call last)",
      "Cell \u001b[0;32mIn[21], line 1\u001b[0m\n\u001b[0;32m----> 1\u001b[0m \u001b[43mt2\u001b[49m\u001b[43m[\u001b[49m\u001b[38;5;241;43m2\u001b[39;49m\u001b[43m]\u001b[49m\u001b[38;5;241m=\u001b[39m\u001b[38;5;124m\"\u001b[39m\u001b[38;5;124mnamaste\u001b[39m\u001b[38;5;124m\"\u001b[39m\n",
      "\u001b[0;31mTypeError\u001b[0m: 'tuple' object does not support item assignment"
     ]
    }
   ],
   "source": [
    "t2[2]=\"namaste\""
   ]
  },
  {
   "cell_type": "markdown",
   "id": "3905d34e-0f12-4dbb-ba7c-5f3f5096e6c8",
   "metadata": {},
   "source": [
    "### Q2. What are the two tuple methods in python? Give an example of each method. Give a reason why tuples have only two in-built methods as compared to Lists."
   ]
  },
  {
   "cell_type": "code",
   "execution_count": 17,
   "id": "7e0930a8-adf6-4ae8-b3ce-6b2599d60c6a",
   "metadata": {},
   "outputs": [],
   "source": [
    "t1=(2,4,5,6,7,\"apple\",\"microsoft\",2,5)"
   ]
  },
  {
   "cell_type": "code",
   "execution_count": null,
   "id": "895333f6-c46c-4781-bb15-d003dc984a51",
   "metadata": {},
   "outputs": [],
   "source": [
    "# Two Tuple methods in the string are count and index "
   ]
  },
  {
   "cell_type": "code",
   "execution_count": 19,
   "id": "5b78ee8c-1124-4e44-a9bc-616d23f6fe4e",
   "metadata": {},
   "outputs": [
    {
     "data": {
      "text/plain": [
       "2"
      ]
     },
     "execution_count": 19,
     "metadata": {},
     "output_type": "execute_result"
    }
   ],
   "source": [
    "t1.index(5)"
   ]
  },
  {
   "cell_type": "code",
   "execution_count": 18,
   "id": "fadc6c47-6c88-4b5f-b45f-7e9f90332a96",
   "metadata": {},
   "outputs": [
    {
     "data": {
      "text/plain": [
       "1"
      ]
     },
     "execution_count": 18,
     "metadata": {},
     "output_type": "execute_result"
    }
   ],
   "source": [
    "t1.count(2)"
   ]
  },
  {
   "cell_type": "code",
   "execution_count": null,
   "id": "4cc27446-1c0b-4320-b4f1-478a7feaa229",
   "metadata": {},
   "outputs": [],
   "source": [
    "# Tuples are immutable i.e. we cannot change any item in Tuple but lists are mutable.Therefore Tuples have only two in-built methods aa compared to lists."
   ]
  },
  {
   "cell_type": "markdown",
   "id": "bedd0ca5-4eb5-4be0-94cd-85c554693802",
   "metadata": {},
   "source": [
    "### Q4. Explain the difference between the union() and update() methods for a set. Give an example of each method."
   ]
  },
  {
   "cell_type": "code",
   "execution_count": 6,
   "id": "c284f676-b355-436b-b6b3-ff0513c8893e",
   "metadata": {},
   "outputs": [],
   "source": [
    "# The union() method returns a set that contains all items from the original set, and all items from the specified sets.\n",
    "# The update() method updates the current set, by adding items from another set (or any other iterable).If an item is present in both sets, only one appearance of this item will be present in the updated set."
   ]
  },
  {
   "cell_type": "code",
   "execution_count": 10,
   "id": "3bb014d7-418e-430d-880b-40994e43dbfa",
   "metadata": {},
   "outputs": [],
   "source": [
    "set1={1,23,45,4}\n",
    "set2={4,7,23,17}"
   ]
  },
  {
   "cell_type": "code",
   "execution_count": 11,
   "id": "476e2dfe-a351-4f41-8b3d-4e7342633e59",
   "metadata": {},
   "outputs": [
    {
     "data": {
      "text/plain": [
       "{1, 4, 7, 17, 23, 45}"
      ]
     },
     "execution_count": 11,
     "metadata": {},
     "output_type": "execute_result"
    }
   ],
   "source": [
    "set1.union(set2)"
   ]
  },
  {
   "cell_type": "code",
   "execution_count": 15,
   "id": "20d29d99-49e9-47d6-96d1-6e9757afbdf4",
   "metadata": {},
   "outputs": [],
   "source": [
    "set1.update({\"apple\",\"alphabet\"})"
   ]
  },
  {
   "cell_type": "code",
   "execution_count": 16,
   "id": "6e378602-9c13-49f9-9b94-67654aaf3b7d",
   "metadata": {},
   "outputs": [
    {
     "data": {
      "text/plain": [
       "{1, 17, 23, 4, 45, 7, 'alphabet', 'apple'}"
      ]
     },
     "execution_count": 16,
     "metadata": {},
     "output_type": "execute_result"
    }
   ],
   "source": [
    "set1"
   ]
  },
  {
   "cell_type": "markdown",
   "id": "797eee4d-4aad-44ff-860c-18235b49f80f",
   "metadata": {},
   "source": [
    "### Q5. What is a dictionary? Give an example. Also, state whether a dictionary is ordered or unordered.\n"
   ]
  },
  {
   "cell_type": "code",
   "execution_count": null,
   "id": "76ebd8a3-a864-491a-b0ca-d7290c3fc3c7",
   "metadata": {},
   "outputs": [],
   "source": [
    "\"\"\" A dictionary is a data structure that is used for storing a group of objects. A dictionary is having set of keys and every key has a single allocated value. \"\"\""
   ]
  },
  {
   "cell_type": "code",
   "execution_count": null,
   "id": "5dda04b6-a5ba-4fae-955f-dd9c6d9687af",
   "metadata": {},
   "outputs": [],
   "source": [
    "d1={\"key1\":\"DBMS\",\"key2\":\"Python\"}"
   ]
  },
  {
   "cell_type": "code",
   "execution_count": null,
   "id": "9b5c052f-a69f-49f5-a55e-ac63553fe623",
   "metadata": {},
   "outputs": [],
   "source": [
    "# A Dictionary is unordereed"
   ]
  },
  {
   "cell_type": "markdown",
   "id": "d04d4ee1-1384-47a6-a445-42f405d4bc84",
   "metadata": {},
   "source": [
    "### Q3.  Which collection datatypes in python do not allow duplicate items? Write a code using a set to remove duplicates from the given list List = [1, 1, 1, 2, 1, 3, 1, 4, 2, 1, 2, 2, 2, 3, 2, 4, 3, 1, 3, 2, 3, 3, 3, 4, 4, 1, 4, 2, 4, 3, 4, 4]"
   ]
  },
  {
   "cell_type": "code",
   "execution_count": 2,
   "id": "4ff7f042-3979-41f5-8d30-4f947b6cdf02",
   "metadata": {},
   "outputs": [],
   "source": [
    "#  set datatype in python do not allow duplicate items\n",
    "List = [1, 1, 1, 2, 1, 3, 1, 4, 2, 1, 2, 2, 2, 3, 2, 4, 3, 1, 3, 2, 3, 3, 3, 4, 4, 1, 4, 2, 4, 3, 4, 4]\n",
    "l=set(List)"
   ]
  },
  {
   "cell_type": "code",
   "execution_count": 3,
   "id": "4e0111cb-bee2-470f-8e98-8875bd804151",
   "metadata": {},
   "outputs": [
    {
     "data": {
      "text/plain": [
       "{1, 2, 3, 4}"
      ]
     },
     "execution_count": 3,
     "metadata": {},
     "output_type": "execute_result"
    }
   ],
   "source": [
    "l"
   ]
  },
  {
   "cell_type": "markdown",
   "id": "1fde07c1-d204-4925-b9f1-128bc9a18589",
   "metadata": {},
   "source": [
    "### Q6. Can we create a nested dictionary? If so, please give an example by creating a simple one-levelnested dictionary."
   ]
  },
  {
   "cell_type": "code",
   "execution_count": 6,
   "id": "72510449-56c6-46e8-a198-d5cb180c2d19",
   "metadata": {},
   "outputs": [],
   "source": [
    "d1={\"key\":\"happy\",\"key1\":\"happy1\",\"key5\":{\"key3\":\"happy3\",\"key4\":\"happy4\"}}"
   ]
  },
  {
   "cell_type": "code",
   "execution_count": 7,
   "id": "908249d8-1aec-4e50-9b93-e75b05e41fb0",
   "metadata": {},
   "outputs": [
    {
     "data": {
      "text/plain": [
       "{'key': 'happy',\n",
       " 'key1': 'happy1',\n",
       " 'key5': {'key3': 'happy3', 'key4': 'happy4'}}"
      ]
     },
     "execution_count": 7,
     "metadata": {},
     "output_type": "execute_result"
    }
   ],
   "source": [
    "d1"
   ]
  },
  {
   "cell_type": "markdown",
   "id": "eb808ed5-2936-404f-8544-95b48af8cc68",
   "metadata": {},
   "source": [
    "### Q7. Using setdefault() method, create key named topics in the given dictionary and also add the value of the key as this list ['Python', 'Machine Learning’, 'Deep Learning'] dict1 = {'language' : 'Python', 'course': 'Data Science Masters'}\n"
   ]
  },
  {
   "cell_type": "code",
   "execution_count": 8,
   "id": "471575aa-b7a2-4313-96a6-d6baaec95349",
   "metadata": {},
   "outputs": [],
   "source": [
    "d1={}\n",
    "d1.setdefault()"
   ]
  },
  {
   "cell_type": "markdown",
   "id": "fe21cdcd-6190-4b6a-85af-1052cbfe56c4",
   "metadata": {},
   "source": [
    "### Q8. What are the three view objects in dictionaries? Use the three in-built methods in python to display these three view objects for the given dictionary.dict1 = {'Sport': 'Cricket' , 'Teams': ['India', 'Australia', 'England', 'South Africa', 'Sri Lanka', 'New Zealand']}"
   ]
  },
  {
   "cell_type": "code",
   "execution_count": null,
   "id": "201f01f4-baaa-4e10-8b66-0a8e3419caf8",
   "metadata": {},
   "outputs": [],
   "source": [
    "\"\"\"In the python dictionaries, some of the methods return view objects. This view objects are dynamic view objects, meaning that when we made some changes in the dictionary then the view reflects all these changes.\n",
    "\n",
    "The main view objects of dictionary in python are keys, values and items. They provide a non-constant view of the dictionary’s entries.\n",
    "\n",
    "Keys holds all the keys of the dictionary, the values objects holds all the values, whereas the items holds the key-value pairs.\"\"\""
   ]
  },
  {
   "cell_type": "code",
   "execution_count": 2,
   "id": "aa651f1a-d807-4add-8260-c52e7951c54b",
   "metadata": {},
   "outputs": [],
   "source": [
    "dict1 = {'Sport': 'Cricket' , 'Teams': ['India', 'Australia', 'England', 'South Africa', 'Sri Lanka', 'New Zealand']}"
   ]
  },
  {
   "cell_type": "code",
   "execution_count": 3,
   "id": "a47915d7-5a08-4b50-aef6-7bc781eac231",
   "metadata": {},
   "outputs": [
    {
     "data": {
      "text/plain": [
       "dict_keys(['Sport', 'Teams'])"
      ]
     },
     "execution_count": 3,
     "metadata": {},
     "output_type": "execute_result"
    }
   ],
   "source": [
    "dict1.keys()"
   ]
  },
  {
   "cell_type": "code",
   "execution_count": 4,
   "id": "01f07282-0e7f-41bb-bf58-1a9b8beda504",
   "metadata": {},
   "outputs": [
    {
     "data": {
      "text/plain": [
       "dict_values(['Cricket', ['India', 'Australia', 'England', 'South Africa', 'Sri Lanka', 'New Zealand']])"
      ]
     },
     "execution_count": 4,
     "metadata": {},
     "output_type": "execute_result"
    }
   ],
   "source": [
    "dict1.values()"
   ]
  },
  {
   "cell_type": "code",
   "execution_count": 5,
   "id": "cb9ba8f6-e08f-4094-8907-fcd51e876700",
   "metadata": {},
   "outputs": [
    {
     "data": {
      "text/plain": [
       "dict_items([('Sport', 'Cricket'), ('Teams', ['India', 'Australia', 'England', 'South Africa', 'Sri Lanka', 'New Zealand'])])"
      ]
     },
     "execution_count": 5,
     "metadata": {},
     "output_type": "execute_result"
    }
   ],
   "source": [
    "dict1.items()"
   ]
  },
  {
   "cell_type": "code",
   "execution_count": null,
   "id": "4d5dcaae-3dcc-4d95-8eca-e95c05f35b8d",
   "metadata": {},
   "outputs": [],
   "source": []
  },
  {
   "cell_type": "code",
   "execution_count": null,
   "id": "f6400c85-9538-46d6-bd34-3de048cb2ed9",
   "metadata": {},
   "outputs": [],
   "source": []
  }
 ],
 "metadata": {
  "kernelspec": {
   "display_name": "Python 3 (ipykernel)",
   "language": "python",
   "name": "python3"
  },
  "language_info": {
   "codemirror_mode": {
    "name": "ipython",
    "version": 3
   },
   "file_extension": ".py",
   "mimetype": "text/x-python",
   "name": "python",
   "nbconvert_exporter": "python",
   "pygments_lexer": "ipython3",
   "version": "3.10.8"
  }
 },
 "nbformat": 4,
 "nbformat_minor": 5
}
